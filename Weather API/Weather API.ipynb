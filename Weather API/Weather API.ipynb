{
 "cells": [
  {
   "cell_type": "markdown",
   "metadata": {},
   "source": [
    "<center><h1>Weather API</h1></center>\n",
    "\n",
    "Simple REST API program that grabs weather data for a specific location from the api.openweathermap.org and parses through the JSON data to output specific weather related data."
   ]
  },
  {
   "cell_type": "code",
   "execution_count": 1,
   "metadata": {},
   "outputs": [
    {
     "name": "stdout",
     "output_type": "stream",
     "text": [
      "\n",
      "              The weather in Vancouver today is clear sky with a current temperature of 6.5°C and 81% humidity. \n",
      "\n",
      "              Today's high is 8.67°C with a low of 4.47°C.\n",
      "              \n"
     ]
    }
   ],
   "source": [
    "import requests\n",
    "import re\n",
    "\n",
    "def get_weather(zip_code, api_key='906b6939735602a519447e37a839d229'):\n",
    "    \"\"\"\n",
    "    Fetches weather forecast data for a given zip code using OpenWeatherMap's API.\n",
    "\n",
    "    Parameters:\n",
    "    - zip_code: Zip code for which to fetch the weather.\n",
    "    - api_key: API key for accessing OpenWeatherMap's service.\n",
    "\n",
    "    Returns:\n",
    "    - A dictionary with weather data or an error message.\n",
    "    \"\"\"\n",
    "    base_url = \"http://api.openweathermap.org/data/2.5/weather\"\n",
    "    complete_url = f\"{base_url}?zip={zip_code},us&appid={api_key}&units=metric\"\n",
    "    \n",
    "    try:\n",
    "        response = requests.get(complete_url)\n",
    "        response.raise_for_status()  # raises an HTTPError if the response was unsuccessful\n",
    "        return response.json()  # parse JSON response into a Python dictionary\n",
    "    except requests.exceptions.HTTPError as err:\n",
    "        return {\"error\": f\"HTTP Error: {err}\"}\n",
    "    except requests.exceptions.RequestException as e:\n",
    "        return {\"error\": f\"Error: {e}\"}\n",
    "\n",
    "def validate_zip_code(zip_code):\n",
    "    \"\"\"\n",
    "    Validates the given zip code using a regular expression.\n",
    "    \n",
    "    Parameters:\n",
    "    - zip_code: The zip code to validate.\n",
    "    \n",
    "    Returns:\n",
    "    - True if the zip code is valid, False otherwise.\n",
    "    \"\"\"\n",
    "    return re.search(r\"[0-9]{5}\", zip_code) is not None\n",
    "\n",
    "def display_weather_data(weather_data):\n",
    "    \"\"\"\n",
    "    Prints weather details from the parsed JSON data.\n",
    "    \"\"\"\n",
    "    if \"error\" not in weather_data:\n",
    "        location = weather_data.get('name', 'Unknown location')\n",
    "        weather_description = weather_data['weather'][0]['description']\n",
    "        temperature = weather_data['main']['temp']\n",
    "        humidity = weather_data['main']['humidity']\n",
    "        temp_max = weather_data['main']['temp_max']\n",
    "        temp_min = weather_data['main']['temp_min']\n",
    "        print(f\"\"\"\n",
    "              The weather in {location} today is {weather_description} with a current temperature of {temperature}°C and {humidity}% humidity. \\n\n",
    "              Today's high is {temp_max}°C with a low of {temp_min}°C.\n",
    "              \"\"\")\n",
    "    else:\n",
    "        print(weather_data[\"error\"])\n",
    "\n",
    "def main():\n",
    "    while True:\n",
    "        zip_code = input(\"Please enter a zip code (or 'quit' to exit): \")\n",
    "        if zip_code.lower() == 'quit':\n",
    "            break\n",
    "        if validate_zip_code(zip_code):\n",
    "            weather_data = get_weather(zip_code)\n",
    "            display_weather_data(weather_data)\n",
    "        else:\n",
    "            print(\"Invalid zip code. Please enter a valid 5-digit US zip code.\")\n",
    "\n",
    "if __name__ == \"__main__\":\n",
    "    main()"
   ]
  }
 ],
 "metadata": {
  "kernelspec": {
   "display_name": "Python 3",
   "language": "python",
   "name": "python3"
  },
  "language_info": {
   "codemirror_mode": {
    "name": "ipython",
    "version": 3
   },
   "file_extension": ".py",
   "mimetype": "text/x-python",
   "name": "python",
   "nbconvert_exporter": "python",
   "pygments_lexer": "ipython3",
   "version": "3.12.0"
  }
 },
 "nbformat": 4,
 "nbformat_minor": 2
}
