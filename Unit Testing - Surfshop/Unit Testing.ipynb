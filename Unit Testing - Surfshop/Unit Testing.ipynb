{
 "cells": [
  {
   "cell_type": "markdown",
   "metadata": {},
   "source": [
    "<center><h1>Surfshop Unit Testing</h1></center>\n",
    "\n",
    "This Python project involves a test suite designed to assess the functionality of a shopping cart system for a surf shop, part of the Codecademy course work. Utilizing the **unittest** framework, it rigorously tests key features including the addition of single and multiple surfboards to the cart, the application of local discounts, and the validation of checkout dates. The tests employ subtests to efficiently check multiple conditions and use exception handling to confirm proper error responses for invalid actions, such as adding too many surfboards or setting an inappropriate checkout date. This ensures that the surf shop's cart system operates correctly and handles various user actions and inputs effectively."
   ]
  },
  {
   "cell_type": "code",
   "execution_count": null,
   "metadata": {},
   "outputs": [],
   "source": [
    "import unittest\n",
    "import surfshop # customized library that will be tested\n",
    "import datetime\n",
    "\n",
    "class SurfShopTests(unittest.TestCase):\n",
    "    def setUp(self) -> None:\n",
    "        # Initialize a new ShoppingCart for each test\n",
    "        self.cart: surfshop.ShoppingCart = surfshop.ShoppingCart()\n",
    "\n",
    "    def test_add_surfboard(self) -> None:\n",
    "        # Test adding a single surfboard to the cart\n",
    "        message: str = self.cart.add_surfboards(quantity=1)\n",
    "        self.assertEqual(message, f'Successfully added 1 surfboard to cart!')\n",
    "\n",
    "    def test_add_surfboards(self) -> None:\n",
    "        # Test adding multiple surfboards to the cart\n",
    "        for i in range(2, 5):\n",
    "            with self.subTest(i=i):  # Subtest for each quantity\n",
    "                message: str = self.cart.add_surfboards(i)\n",
    "                self.assertEqual(message, f'Successfully added {i} surfboards to cart!')\n",
    "                # Reset cart to empty after each subtest\n",
    "                self.cart = surfshop.ShoppingCart()\n",
    "\n",
    "    @unittest.skip\n",
    "    def test_add_too_many_surfboards(self) -> None:\n",
    "        # Skip this test - it expects an error when adding too many surfboards\n",
    "        self.assertRaises(surfshop.TooManyBoardsError, self.cart.add_surfboards, 5)\n",
    "        \n",
    "    # Commented out - this test should not fail at the end of project once the feature is fixed\n",
    "    # @unittest.expectedFailure\n",
    "    def test_apply_locals_discount(self) -> None:\n",
    "        # Test applying a locals discount\n",
    "        self.cart.apply_locals_discount()\n",
    "        self.assertTrue(self.cart.locals_discount)\n",
    "\n",
    "    def test_add_invalid_checkout_date(self) -> None:\n",
    "        # Test setting a checkout date that is invalid (e.g., current date)\n",
    "        date: datetime.datetime = datetime.datetime.now()\n",
    "        self.assertRaises(surfshop.CheckoutDateError, self.cart.set_checkout_date, date)\n",
    "\n",
    "# This is for jupyter notebook compatibility\n",
    "if __name__ == '__main__':\n",
    "    unittest.main(argv=['first-arg-is-ignored'], exit=False)"
   ]
  }
 ],
 "metadata": {
  "kernelspec": {
   "display_name": "Python 3",
   "language": "python",
   "name": "python3"
  },
  "language_info": {
   "codemirror_mode": {
    "name": "ipython",
    "version": 3
   },
   "file_extension": ".py",
   "mimetype": "text/x-python",
   "name": "python",
   "nbconvert_exporter": "python",
   "pygments_lexer": "ipython3",
   "version": "3.12.0"
  }
 },
 "nbformat": 4,
 "nbformat_minor": 2
}
