{
 "cells": [
  {
   "cell_type": "code",
   "execution_count": 5,
   "metadata": {},
   "outputs": [],
   "source": [
    "from school_system import School, PrimarySchool, HighSchool\n",
    "\n",
    "# Create instances of each school type\n",
    "lincoln_high = School(\"Lincoln High\", \"High\", 1000)\n",
    "jefferson_elementary = PrimarySchool(\"Jefferson Elementary\", 300, \"Parents must sign out.\")\n",
    "roosevelt_high = HighSchool(\"Roosevelt High School\", 1200, [\"Basketball\", \"Swimming\"])\n",
    "\n",
    "# Create a list of school objects\n",
    "schools = [lincoln_high, jefferson_elementary, roosevelt_high]"
   ]
  },
  {
   "cell_type": "code",
   "execution_count": 4,
   "metadata": {},
   "outputs": [
    {
     "name": "stdout",
     "output_type": "stream",
     "text": [
      "Name                           Level      Number of Students   Extra Info                    \n",
      "------------------------------------------------------------------------------------------\n",
      "Lincoln High                   High       1000                 N/A                           \n",
      "Jefferson Elementary           primary    300                  Pickup Policy: Parents must sign out.\n",
      "Roosevelt High School          high       1200                 Sports Teams: Basketball, Swimming\n"
     ]
    }
   ],
   "source": [
    "import pandas as pd\n",
    "\n",
    "def print_schools_table(schools):\n",
    "    # Print the table header\n",
    "    print(f\"{'Name':<30} {'Level':<10} {'Number of Students':<20} {'Extra Info':<30}\")\n",
    "    print(\"-\" * 90)  \n",
    "    \n",
    "    # Iterate over the list of schools and print their details\n",
    "    for school in schools:\n",
    "        \n",
    "        # Check the type of school to determine what extra info to display\n",
    "        if isinstance(school, PrimarySchool):\n",
    "            extra_info = f\"Pickup Policy: {school.pickupPolicy}\"\n",
    "        elif isinstance(school, HighSchool):\n",
    "            extra_info = f\"Sports Teams: {', '.join(school.sportsTeams)}\"\n",
    "        else:\n",
    "            extra_info = \"N/A\"\n",
    "\n",
    "        print(f\"{school.name:<30} {school.level:<10} {school.numberOfStudents:<20} {extra_info:<30}\")\n",
    "\n",
    "# Now, call the function with the list of school objects\n",
    "print_schools_table(schools)"
   ]
  }
 ],
 "metadata": {
  "kernelspec": {
   "display_name": "Python 3",
   "language": "python",
   "name": "python3"
  },
  "language_info": {
   "codemirror_mode": {
    "name": "ipython",
    "version": 3
   },
   "file_extension": ".py",
   "mimetype": "text/x-python",
   "name": "python",
   "nbconvert_exporter": "python",
   "pygments_lexer": "ipython3",
   "version": "3.12.0"
  }
 },
 "nbformat": 4,
 "nbformat_minor": 2
}
